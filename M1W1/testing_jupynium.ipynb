{
    "cells": [
        {
            "cell_type": "markdown",
            "id": "bb3b01a9",
            "metadata": {},
            "source": "<a href=\"https://colab.research.google.com/github/Daniel-LeTC/AIO2025/blob/main/M1W1/%5BColab-Hint%5D-Exercise-Activation-Functions.ipynb\" target=\"_parent\"><img src=\"https://colab.research.google.com/assets/colab-badge.svg\" alt=\"Open In Colab\"/></a>"
        },
        {
            "cell_type": "markdown",
            "id": "94eee250",
            "metadata": {},
            "source": "## **B\u00e0i 1 - Vi\u1ebft h\u00e0m t\u00ednh \u0111\u1ed9 \u0111o F1**\nVi\u1ebft h\u00e0m th\u1ef1c hi\u1ec7n \u0111\u00e1nh gi\u00e1 F1-Score cho c\u00e1c m\u00f4 h\u00ecnh ph\u00e2n lo\u1ea1i.\n- $\\mbox{Precision} = \\dfrac{TP}{TP + FP}$\n- $\\mbox{Recall} = \\dfrac{TP}{TP + FN}$\n- $\\mbox{F1-score} = 2*\\dfrac{Precision*Recall}{Precision + Recall}$\n\n- Input: nh\u1eadn 3 gi\u00e1 tr\u1ecb **tp, fp, fn**\n\n- Output: tr\u1ea3 v\u1ec1 k\u1ebft qu\u1ea3 c\u1ee7a **Precision, Recall, v\u00e0 F1-score**\n\n\n**NOTE: \u0110\u1ec1 b\u00e0i y\u00eau c\u1ea7u c\u00e1c \u0111i\u1ec1u ki\u1ec7n sau**\n    \n- Ph\u1ea3i **ki\u1ec3m tra gi\u00e1 tr\u1ecb nh\u1eadn v\u00e0o tp, fp, fn l\u00e0 ki\u1ec3u d\u1eef li\u1ec7u int**, n\u1ebfu l\u00e0 nh\u1eadn \u0111\u01b0\u1ee3c ki\u1ec3m d\u1eef li\u1ec7u kh\u00e1c kh\u00e1c th\u00ec in th\u00f4ng b\u00e1o cho ng\u01b0\u1eddi d\u00f9ng v\u00ed d\u1ee5 check fn l\u00e0 float, print **'fn must be int'** v\u00e0 tho\u00e1t h\u00e0m ho\u1eb7c d\u1eebng ch\u01b0\u01a1ng tr\u00ecnh.\n- Y\u00eau c\u1ea7u **tp, fp, fn ph\u1ea3i \u0111\u1ec1u l\u1edbn h\u01a1n 0**, n\u1ebfu kh\u00f4ng th\u00ec print **'tp and fp and fn must be greater than 0'** v\u00e0 tho\u00e1t h\u00e0m ho\u1eb7c d\u1eebng ch\u01b0\u01a1ng tr\u00ecnh"
        },
        {
            "cell_type": "markdown",
            "id": "305f8731",
            "metadata": {},
            "source": "### C\u00e2u h\u1ecfi 1"
        },
        {
            "cell_type": "code",
            "execution_count": 1,
            "id": "6a297fa8",
            "metadata": {
                "trusted": true
            },
            "outputs": [
                {
                    "ename": "AssertionError",
                    "evalue": "",
                    "output_type": "error",
                    "traceback": [
                        "\u001b[0;31m---------------------------------------------------------------------------\u001b[0m",
                        "\u001b[0;31mAssertionError\u001b[0m                            Traceback (most recent call last)",
                        "Cell \u001b[0;32mIn[1], line 22\u001b[0m\n\u001b[1;32m     19\u001b[0m     f1_score \u001b[38;5;241m=\u001b[39m \u001b[38;5;241m2\u001b[39m \u001b[38;5;241m*\u001b[39m (precision \u001b[38;5;241m*\u001b[39m recall) \u001b[38;5;241m/\u001b[39m (precision )\n\u001b[1;32m     20\u001b[0m     \u001b[38;5;28;01mreturn\u001b[39;00m f1_score\n\u001b[0;32m---> 22\u001b[0m \u001b[38;5;28;01massert\u001b[39;00m \u001b[38;5;28mround\u001b[39m(calc_f1_score(tp\u001b[38;5;241m=\u001b[39m\u001b[38;5;241m2\u001b[39m, fp\u001b[38;5;241m=\u001b[39m\u001b[38;5;241m3\u001b[39m, fn\u001b[38;5;241m=\u001b[39m\u001b[38;5;241m5\u001b[39m), \u001b[38;5;241m2\u001b[39m) \u001b[38;5;241m==\u001b[39m \u001b[38;5;241m0.33\u001b[39m\n",
                        "\u001b[0;31mAssertionError\u001b[0m: "
                    ]
                }
            ],
            "source": "import math\ndef calc_f1_score(tp, fp, fn):\n    \"\"\"\n    T\u00ednh \u0111i\u1ec3m F1 Score t\u1eeb c\u00e1c gi\u00e1 tr\u1ecb:\n    - tp: S\u1ed1 l\u01b0\u1ee3ng true positives\n    - fp: S\u1ed1 l\u01b0\u1ee3ng false positives\n    - fn: S\u1ed1 l\u01b0\u1ee3ng false negatives\n\n    C\u00f4ng th\u1ee9c:\n        precision = tp / (tp + fp)\n        recall = tp / (tp + fn)\n        f1_score = 2 * (precision * recall) / (precision + recall)\n\n    Tr\u1ea3 v\u1ec1:\n        f1_score: \u0110i\u1ec3m F1 Score d\u01b0\u1edbi d\u1ea1ng float\n    \"\"\"\n    precision = tp / (tp + fp)\n    recall = tp / (tp + fn)\n    f1_score = 2 * (precision * recall) / (precision )\n    return f1_score\n\nassert round(calc_f1_score(tp=2, fp=3, fn=5), 2) == 0.33"
        },
        {
            "cell_type": "code",
            "execution_count": 2,
            "id": "d7236b02",
            "metadata": {
                "trusted": true
            },
            "outputs": [
                {
                    "data": {
                        "text/plain": "0.5714285714285714"
                    },
                    "execution_count": 2,
                    "metadata": {},
                    "output_type": "execute_result"
                }
            ],
            "source": "calc_f1_score(tp=2, fp=4, fn=5)"
        },
        {
            "cell_type": "code",
            "execution_count": null,
            "id": "2e7e0117",
            "metadata": {
                "trusted": true
            },
            "outputs": [],
            "source": "def evaluate_f1_components(tp, fp, fn):\n    \"\"\"\n    T\u00ednh \u0111i\u1ec3m F1 Score t\u1eeb c\u00e1c gi\u00e1 tr\u1ecb:\n    - tp: S\u1ed1 l\u01b0\u1ee3ng true positives\n    - fp: S\u1ed1 l\u01b0\u1ee3ng false positives\n    - fn: S\u1ed1 l\u01b0\u1ee3ng false negatives\n\n    C\u00f4ng th\u1ee9c:\n        precision = tp / (tp + fp)\n        recall = tp / (tp + fn)\n        f1_score = 2 * (precision * recall) / (precision + recall)\n\n    Tr\u1ea3 v\u1ec1:\n        f1_score: \u0110i\u1ec3m F1 Score d\u01b0\u1edbi d\u1ea1ng float\n    \"\"\"\n\n    # Ki\u1ec3m tra ki\u1ec3u d\u1eef li\u1ec7u\n    # Ki\u1ec3m tra gi\u00e1 tr\u1ecb kh\u00f4ng \u00e2m\n    ### Your code here\n    assert all(isinstance(val, int) and val >= 0 for val in [tp, fp, fn])\n    precision = tp / (tp + fp)\n    recall = tp / (tp + fn)\n    f1_score = 2 * (precision * recall) / (precision + recall)\n\n    return precision, recall, f1_score\n\nprecision, recall, f1_score = evaluate_f1_components(tp=2, fp=3, fn=5)"
        },
        {
            "cell_type": "code",
            "execution_count": null,
            "id": "12dac674",
            "metadata": {
                "trusted": true
            },
            "outputs": [],
            "source": "precision, recall, f1_score"
        },
        {
            "cell_type": "markdown",
            "id": "92092077",
            "metadata": {},
            "source": "# **B\u00e0i 2: H\u00e0m k\u00edch ho\u1ea1t**"
        },
        {
            "cell_type": "markdown",
            "id": "12104488",
            "metadata": {},
            "source": "- Input:\n    - Ng\u01b0\u1eddi d\u00f9ng nh\u1eadp gi\u00e1 tr\u1ecb **x**\n    - Ng\u01b0\u1eddi d\u00f9ng nh\u1eadp t\u00ean **activation function ch\u1ec9 c\u00f3 3 lo\u1ea1i (sigmoid, relu, elu)**\n- Output: K\u1ebft qu\u1ea3 **f(x)** (x khi \u0111i qua actiavtion fucntion t\u01b0\u01a1ng \u1ee9ng theo activation function name). V\u00ed d\u1ee5 **nh\u1eadp x=3, activation_function = 'relu'. Output: print 'relu: f(3)=3'**\n\n**NOTE: L\u01b0u \u00fd c\u00e1c \u0111i\u1ec1u ki\u1ec7n sau:**\n- D\u00f9ng function **is_number** \u0111\u01b0\u1ee3c cung c\u1ea5p s\u1eb5n \u0111\u1ec3 **ki\u1ec3m tra x c\u00f3 h\u1ee3p l\u1ec7 hay kh\u00f4ng** (vd: x='10', is_number(x) s\u1ebd tr\u1ea3 v\u1ec1 True ng\u01b0\u1ee3c l\u1ea1i l\u00e0 False). N\u1ebfu **kh\u00f4ng h\u1ee3p l\u1ec7 print 'x must be a number' v\u00e0 d\u1eebng ch\u01b0\u01a1ng tr\u00ecnh.**\n- Ki\u1ec3m tra **activation function name c\u00f3 h\u1ee3p l\u1ec7 hay kh\u00f4ng n\u1eb1m trong 3 t\u00ean (sigmoid, relu, elu)**. **N\u1ebfu kh\u00f4ng print 'ten_function_user is not supported'** (vd ng\u01b0\u1eddi d\u00f9ng nh\u1eadp 'belu' th\u00ec print 'belu is not supportted')\n- Convert **x** sang **float** type\n- Th\u1ef1c hi\u1ec7n v\u1edbi theo c\u00f4ng th\u1ee9c v\u1edbi activation name t\u01b0\u01a1ng \u1ee9ng. Print ra k\u1ebft qu\u1ea3\n- D\u00f9ng math.e \u0111\u1ec3 l\u1ea5y s\u1ed1 e\n- $\\alpha$ = 0.01"
        },
        {
            "cell_type": "markdown",
            "id": "03ca6984",
            "metadata": {},
            "source": "## **C\u00e2u h\u1ecfi 2**"
        },
        {
            "cell_type": "code",
            "execution_count": null,
            "id": "3c7f98e4",
            "metadata": {
                "trusted": true
            },
            "outputs": [],
            "source": "import math\ndef is_number(n):\n    try:\n        float(n)   # Type-casting the string to `float`.\n                   # If string is not a valid `float`,\n                   # it'll raise `ValueError` exception\n    except ValueError:\n        return False\n    return True\nassert is_number(3) == 1.0\nassert is_number('-2a') == 0.0\nprint(is_number(1))\nprint(is_number('n'))"
        },
        {
            "cell_type": "markdown",
            "id": "c8046a91",
            "metadata": {},
            "source": "## **C\u00e2u h\u1ecfi 3**"
        },
        {
            "cell_type": "code",
            "execution_count": null,
            "id": "733be24a",
            "metadata": {
                "trusted": true
            },
            "outputs": [],
            "source": "def calc_relu(x):\n    \"\"\"\n    T\u00ednh h\u00e0m ReLU:\n    ReLU(x) = max(0, x)\n    \"\"\"\n    if x<=0:\n        result = 0.0\n    else:\n        result = x\n    return float(result)\n\ncalc_relu(5)"
        },
        {
            "cell_type": "markdown",
            "id": "60952a35",
            "metadata": {},
            "source": "## **C\u00e2u h\u1ecfi 4**"
        },
        {
            "cell_type": "code",
            "execution_count": null,
            "id": "c0f85fb9",
            "metadata": {
                "trusted": true
            },
            "outputs": [],
            "source": "import math\n\ndef calc_sig(x):\n    \"\"\"\n    T\u00ednh h\u00e0m sigmoid: \u03c3(x) = 1 / (1 + e^(-x))\n    \"\"\"\n    ### Your code here\n    return 1 / (1 + math.exp(-x))\n\nassert round(calc_sig(3), 2)==0.95\n\ncalc_sig(1)"
        },
        {
            "cell_type": "code",
            "execution_count": null,
            "id": "4eef1bbb",
            "metadata": {
                "trusted": true
            },
            "outputs": [],
            "source": "print(round(calc_sig(2), 2))"
        },
        {
            "cell_type": "markdown",
            "id": "7bd8ef41",
            "metadata": {},
            "source": "## **C\u00e2u h\u1ecfi 5**"
        },
        {
            "cell_type": "code",
            "execution_count": null,
            "id": "2cd5b518",
            "metadata": {
                "trusted": true
            },
            "outputs": [],
            "source": "import math\n\ndef calc_elu(x):\n    \"\"\"\n    T\u00ednh h\u00e0m ELU (Exponential Linear Unit):\n    ELU(x) = x                 n\u1ebfu x >= 0\n           = alpha * (e^x - 1) n\u1ebfu x < 0\n    \"\"\"\n    ### Your code here\n    if x <= 0:\n        return 0.01*(math.exp(x) - 1)\n    else:\n        return x\n\nassert round(calc_elu(1))==1\n\ncalc_elu(-4)"
        },
        {
            "cell_type": "code",
            "execution_count": null,
            "id": "ade83b66",
            "metadata": {
                "trusted": true
            },
            "outputs": [],
            "source": "print(round(calc_elu(-1), 2))"
        },
        {
            "cell_type": "markdown",
            "id": "d30629fb",
            "metadata": {},
            "source": "## **C\u00e2u h\u1ecfi 6**"
        },
        {
            "cell_type": "markdown",
            "id": "23cd5ba1",
            "metadata": {},
            "source": "Do em kh\u00f4ng \u0111\u1ecdc k\u0129 file notebook n\u00ean t\u01b0\u1edfng l\u00e0 t\u1ef1 l\u00e0m nguy\u00ean ph\u1ea7n c\u00e2u 2 v\u00e0o \u0111\u00e2y n\u00ean em code l\u1ea1i t\u1eeb \u0111\u1ea7u :D c\u00f3 h\u1ecfi AI m\u1ed9t s\u1ed1 c\u00e1i v\u00e0 code l\u1ea1i n\u00ean k\u1ebft qu\u1ea3 c\u1ee7a c\u00e2u 6 ch\u1ea1y h\u00e0m sigmoid b\u1eb1ng 0.95 l\u00e0 \u1edf 2 cell k\u1ebf ti\u1ebfp \u1ea1, mong TA th\u00f4ng c\u1ea3m :D"
        },
        {
            "cell_type": "code",
            "execution_count": null,
            "id": "32bd3676",
            "metadata": {
                "trusted": true
            },
            "outputs": [],
            "source": "def relu(x:float) -> float:\n    if x < 0:\n        return 0\n    else:\n        return x\n\ndef elu(x:float, alpha:float) -> float:\n    if x <= 0:\n        return alpha*(math.exp(x) - 1)\n    else:\n        return x\ndef sigmoid(x:float) -> float:\n    return 1 / (1 + math.exp(-x))\n\ndef activation_function(name_func: str, x:float) -> float:\n    activation_funcs = {\n        'relu': relu,\n        'sigmoid': sigmoid,\n        'elu': elu\n    }\n    if not is_number(x):\n        raise ValueError(f'{x} must be a number')\n    if name_func not in activation_funcs:\n        raise ValueError(f'Error:{name_func} not supported')\n    call_func = activation_funcs[name_func]\n    if name_func == 'elu':\n        alpha = 0.01\n        return call_func(x, alpha)\n    else:\n        return call_func(x)"
        },
        {
            "cell_type": "markdown",
            "id": "1b76c451",
            "metadata": {},
            "source": "###### sigmoid_output"
        },
        {
            "cell_type": "code",
            "execution_count": null,
            "id": "31d76023",
            "metadata": {
                "trusted": true
            },
            "outputs": [],
            "source": "# Test 1:\nround(activation_function('sigmoid', 3),2)"
        },
        {
            "cell_type": "code",
            "execution_count": null,
            "id": "d7e1fc87",
            "metadata": {
                "trusted": true
            },
            "outputs": [],
            "source": "# Test 2\nactivation_function('elu1')"
        },
        {
            "cell_type": "code",
            "execution_count": null,
            "id": "ebc5b905",
            "metadata": {
                "trusted": true
            },
            "outputs": [],
            "source": "# Test 3\nactivation_function('elu', 'n')"
        },
        {
            "cell_type": "code",
            "execution_count": null,
            "id": "2f1a8dad",
            "metadata": {
                "trusted": true
            },
            "outputs": [],
            "source": "import math\n\ndef calc_activation_func(x, act_name):\n    \"\"\"\n    T\u00ednh h\u00e0m k\u00edch ho\u1ea1t cho x d\u1ef1a tr\u00ean act_name:\n    'relu', 'sigmoid', ho\u1eb7c 'elu'.\n    \"\"\"\n    ### Your code here\n\nassert calc_activation_func(x = 1, act_name='relu') == 1\ncalc_activation_func(1, \"sigmoid\")"
        },
        {
            "cell_type": "code",
            "execution_count": null,
            "id": "97536ac5",
            "metadata": {
                "trusted": true
            },
            "outputs": [],
            "source": "print(round(calc_activation_func(x = 3, act_name='sigmoid'), 2))"
        },
        {
            "cell_type": "markdown",
            "id": "0559ef5a",
            "metadata": {},
            "source": "##### Please see the code and output of this sigmoid output at [output](#sigmoid_output)"
        },
        {
            "cell_type": "code",
            "execution_count": null,
            "id": "ec739ce4",
            "metadata": {
                "trusted": true
            },
            "outputs": [],
            "source": "def interactive_activation_function():\n    x = input('Input x = ')\n    if not is_number(x):\n        print('x must be a number')\n        return # exit()\n\n    act_name = input('Input activation function (sigmoid|relu|elu): ')\n    x = float(x)\n    result = calc_activation_func(x, act_name)\n    if result is None:\n        print(f'{act_name} is not supportted')\n    else:\n        print(f'{act_name}: f({x}) = {result}')"
        },
        {
            "cell_type": "code",
            "execution_count": null,
            "id": "fcf5bac5",
            "metadata": {
                "trusted": true
            },
            "outputs": [],
            "source": "interactive_activation_function()"
        },
        {
            "cell_type": "markdown",
            "id": "e42cb9cf",
            "metadata": {},
            "source": "# **B\u00e0i 3: H\u00e0m m\u1ea5t m\u00e1t**"
        },
        {
            "cell_type": "markdown",
            "id": "de33afe6",
            "metadata": {},
            "source": "Vi\u1ebft function l\u1ef1a ch\u1ecdn regression loss function \u0111\u1ec3 t\u00ednh loss:\n- MAE = $ \\dfrac{1}{n}\u2211_{i=1}^{n} |y_{i} - \\hat{y}_{i}| $\n- MSE = $ \\dfrac{1}{n}\u2211_{i=1}^{n} (y_{i} - \\hat{y}_{i})^2 $\n- RMSE = $\\sqrt{MSE}$ = $ \\sqrt{\\dfrac{1}{n}\u2211_{i=1}^{n} (y_{i} - \\hat{y}_{i})^2} $\n- **n** ch\u00ednh l\u00e0 **s\u1ed1 l\u01b0\u1ee3ng samples (num_samples)**, v\u1edbi **i** l\u00e0 m\u1ed7i sample c\u1ee5 th\u1ec3. \u1ede \u0111\u00e2y c\u00e1c b\u1ea1n c\u00f3 th\u1ec3 hi\u1ec3u l\u00e0 c\u1ee9 m\u1ed7i **i** th\u00ec s\u1ebd **c\u00f3 1 c\u1eb7p  $y_i$ l\u00e0 target v\u00e0 $\\hat{y}$ l\u00e0 predict**.\n- Input:\n    - Ng\u01b0\u1eddi d\u00f9ng **nh\u1eadp s\u1ed1 l\u01b0\u1ee3ng sample (num_samples) \u0111\u01b0\u1ee3c t\u1ea1o ra (ch\u1ec9 nh\u1eadn integer numbers)**\n    - Ng\u01b0\u1eddi d\u00f9ng **nh\u1eadp loss name (MAE, MSE, RMSE-(optional)) ch\u1ec9 c\u1ea7n MAE v\u00e0 MSE, b\u1ea1n n\u00e0o mu\u1ed1n l\u00e0m th\u00eam RMSE \u0111\u1ec1u \u0111\u01b0\u1ee3c**.\n        \n- Output:\n    - Print ra **loss name, sample, predict, target, loss**\n        - **loss name:** l\u00e0 loss m\u00e0 ng\u01b0\u1eddi d\u00f9ng ch\u1ecdn\n        - **sample:** l\u00e0 th\u1ee9 t\u1ef1 sample \u0111\u01b0\u1ee3c t\u1ea1o ra (v\u00ed d\u1ee5 num_samples=5, th\u00ec s\u1ebd c\u00f3 5 samples v\u00e0 m\u1ed7i sample l\u00e0 sample-0, sample-1, sample-2, sample-3, sample-4)\n        - **predict:** l\u00e0 s\u1ed1 m\u00e0 model d\u1ef1 \u0111o\u00e1n (ch\u1ec9 c\u1ea7n d\u00f9ng random t\u1ea1o random m\u1ed9t s\u1ed1 trong range [0,10))\n        - **target:** l\u00e0 s\u1ed1 target m\u00e0 momg mu\u1ed1n mode d\u1ef1 \u0111o\u00e1n \u0111\u00fang (ch\u1ec9 c\u1ea7n d\u00f9ng random t\u1ea1o random m\u1ed9t s\u1ed1 trong range [0,10))\n        - **loss:** l\u00e0 k\u1ebft qu\u1ea3 khi \u0111\u01b0a predict v\u00e0 target v\u00e0o h\u00e0m loss\n        - **note:** v\u00ed d\u1ee5 num_sample=5 th\u00ec s\u1ebd c\u00f3 5 c\u1eb7p predict v\u00e0 target.\n\n**Note: C\u00e1c b\u1ea1n l\u01b0u \u00fd**\n- D\u00f9ng **.isnumeric() method** \u0111\u1ec3 ki\u1ec3m tra **num_samples** c\u00f3 h\u1ee3p l\u1ec7 hay kh\u00f4ng (vd: x='10', num_samples.isnumeric() s\u1ebd tr\u1ea3 v\u1ec1 True ng\u01b0\u1ee3c l\u1ea1i l\u00e0 False). N\u1ebfu **kh\u00f4ng h\u1ee3p l\u1ec7 print 'number of samples must be an integer number'** v\u00e0 d\u1eebng ch\u01b0\u01a1ng tr\u00ecnh.\n- **D\u00f9ng v\u00f2ng l\u1eb7p for, l\u1eb7p l\u1ea1i num_samples l\u1ea7n**. **M\u1ed7i l\u1ea7n d\u00f9ng random modules t\u1ea1o m\u1ed9t con s\u1ed1 ng\u1eabu nhi\u00ean trong range [0.0, 10.0) cho predict v\u00e0 target**. Sau \u0111\u00f3 predict v\u00e0 target v\u00e0o loss function v\u00e0 print ra k\u1ebft qu\u1ea3 m\u1ed7i l\u1ea7n l\u1eb7p.\n- D\u00f9ng **random.uniform(0,10)** \u0111\u1ec3 t\u1ea1o ra m\u1ed9t s\u1ed1 ng\u1eabu nhi\u00ean trong range [0,10)\n- **Gi\u1ea3 x\u1eed ng\u01b0\u1eddi d\u00f9ng lu\u00f4n nh\u1eadp \u0111\u00fang loss name MSE, MAE, v\u00e0 RMSE (\u0111\u01a1n gi\u1ea3ng b\u01b0\u1edbc n\u00e0y \u0111\u1ec3 c\u00e1c b\u1ea1n kh\u00f4ng c\u1ea7n check t\u00ean h\u1ee3p l\u1ec7)**\n- D\u00f9ng abs() \u0111\u1ec3 t\u00ednh tr\u1ecb tuy\u1ec7t \u0111\u1ed1i v\u00ed d\u1ee5 abs(-3) s\u1ebd tr\u1ea3 v\u1ec1 3\n- D\u00f9ng math.sqrt() \u0111\u1ec3 t\u00ednh c\u0103n b\u1eadc 2"
        },
        {
            "cell_type": "markdown",
            "id": "63a139ea",
            "metadata": {},
            "source": "## **C\u00e2u h\u1ecfi 7**"
        },
        {
            "cell_type": "code",
            "execution_count": null,
            "id": "4adf0652",
            "metadata": {
                "trusted": true
            },
            "outputs": [],
            "source": "ef calc_ae(y, y_hat):\n    \"\"\"\n    T\u00ednh sai s\u1ed1 tuy\u1ec7t \u0111\u1ed1i (Absolute Error)\n    gi\u1eefa gi\u00e1 tr\u1ecb th\u1ef1c t\u1ebf v\u00e0 gi\u00e1 tr\u1ecb d\u1ef1 \u0111o\u00e1n.\n\n    Tham s\u1ed1:\n    y (float ho\u1eb7c int): Gi\u00e1 tr\u1ecb th\u1ef1c t\u1ebf (ground truth).\n    y_hat (float ho\u1eb7c int): Gi\u00e1 tr\u1ecb d\u1ef1 \u0111o\u00e1n.\n\n    Tr\u1ea3 v\u1ec1:\n    float: Gi\u00e1 tr\u1ecb tuy\u1ec7t \u0111\u1ed1i c\u1ee7a hi\u1ec7u gi\u1eefa y v\u00e0 y_hat.\n    \"\"\"\n    ### Your code here\n    return abs(y - y_hat)\n\ny = 1\ny_hat = 6\nassert calc_ae(y, y_hat)==5\n\ny = 2\ny_hat = 9\nprint(calc_ae(y, y_hat))"
        },
        {
            "cell_type": "markdown",
            "id": "3e3d8a78",
            "metadata": {},
            "source": "## **C\u00e2u h\u1ecfi 8**"
        },
        {
            "cell_type": "code",
            "execution_count": null,
            "id": "f34cd593",
            "metadata": {
                "trusted": true
            },
            "outputs": [],
            "source": "def calc_se(y, y_hat):\n    \"\"\"\n    T\u00ednh sai s\u1ed1 b\u00ecnh ph\u01b0\u01a1ng (Squared Error)\n    gi\u1eefa gi\u00e1 tr\u1ecb th\u1ef1c t\u1ebf v\u00e0 gi\u00e1 tr\u1ecb d\u1ef1 \u0111o\u00e1n.\n\n    Tham s\u1ed1:\n    y (float ho\u1eb7c int): Gi\u00e1 tr\u1ecb th\u1ef1c t\u1ebf (ground truth).\n    y_hat (float ho\u1eb7c int): Gi\u00e1 tr\u1ecb d\u1ef1 \u0111o\u00e1n.\n\n    Tr\u1ea3 v\u1ec1:\n    float: B\u00ecnh ph\u01b0\u01a1ng c\u1ee7a hi\u1ec7u gi\u1eefa y v\u00e0 y_hat.\n    \"\"\"\n    ### Your code here\n    return (y - y_hat)**2\ny = 4\ny_hat = 2\nassert calc_se(y, y_hat) == 4\n\nprint(calc_se(2, 1))"
        },
        {
            "cell_type": "code",
            "execution_count": null,
            "id": "f063011a",
            "metadata": {
                "trusted": true
            },
            "outputs": [],
            "source": "import random\n\ndef cal_activation_function():\n    num_samples = input('Input number of samples (integer number) which are generated: ')\n    if not num_samples.isnumeric():#H\u00e0m isnumeric() trong Python tr\u1ea3 v\u1ec1 true n\u1ebfu m\u1ed9t chu\u1ed7i d\u1ea1ng Unicode ch\u1ec9 ch\u1ee9a c\u00e1c k\u00fd t\u1ef1 s\u1ed1,\n    #n\u1ebfu kh\u00f4ng l\u00e0 false.\n        print(\"number of samples must be an integer number\")\n        return # exit()\n    loss_name = input('Input loss name: ')\n\n    # gi\u1ea3 s\u1eed ng\u01b0\u1eddi d\u00f9ng lu\u00f4n nh\u1eadp \u0111\u00fang MAE, MSE ho\u1eb7c RMSE\n    final_loss = 0\n    num_samples = int(num_samples)\n    for i in range(num_samples):\n        pred_sample = random.uniform(0,10)\n        target_sample = random.uniform(0,10)\n\n        if loss_name == 'MAE':\n            loss = calc_ae(pred_sample, target_sample)\n        elif loss_name == 'MSE' or loss_name == 'RMSE':\n            loss = calc_se(pred_sample, target_sample)\n        # ho\u1eb7c tr\u1ea3 v\u1ec1 th\u00f4ng b\u00e1o loss kh\u00f4ng c\u00f3\n        final_loss += loss\n        print(f'loss_name: {loss_name}, sample: {i}: pred: {round(pred_sample,2)} target: {round(target_sample,2)} loss: {round(loss,2)}')\n\n    final_loss /= num_samples\n    if loss_name == 'RMSE':\n        final_loss = math.sqrt(final_loss)\n    print(f'final {loss_name}: {final_loss}')\n    return final_loss"
        },
        {
            "cell_type": "code",
            "execution_count": null,
            "id": "8377230f",
            "metadata": {
                "trusted": true
            },
            "outputs": [],
            "source": "final_loss = cal_activation_function()\nfinal_loss"
        },
        {
            "cell_type": "markdown",
            "id": "7512f737",
            "metadata": {},
            "source": "# **B\u00e0i 4: H\u00e0m l\u01b0\u1ee3ng gi\u00e1c**"
        },
        {
            "cell_type": "markdown",
            "id": "f615a1d8",
            "metadata": {},
            "source": "Vi\u1ebft 4 functions \u0111\u1ec3 \u01b0\u1edbc l\u01b0\u1ee3ng c\u00e1c h\u00e0m s\u1ed1 sau.\n-  Input: x (s\u1ed1 mu\u1ed1n t\u00ednh to\u00e1n) v\u00e0 n (s\u1ed1 l\u1ea7n l\u1eb7p mu\u1ed1n x\u1ea5p x\u1ec9)\n- Output: K\u1ebft qu\u1ea3 \u01b0\u1edbc l\u01b0\u1ee3ng h\u00e0m t\u01b0\u01a1ng \u1ee9ng v\u1edbi x. V\u00ed d\u1ee5 h\u00e0m cos(x=0) th\u00ec output = 1\n\n**NOTE: C\u00e1c b\u1ea1n ch\u00fa \u00fd c\u00e1c \u0111i\u1ec1u ki\u1ec7n sau**\n- x l\u00e0 radian\n- n l\u00e0 s\u1ed1 nguy\u00ean d\u01b0\u01a1ng > 0\n- c\u00e1c b\u1ea1n n\u00ean vi\u1ebft m\u1ed9t h\u00e0m t\u00ednh giai th\u1eeba ri\u00eang"
        },
        {
            "cell_type": "code",
            "execution_count": null,
            "id": "bb91f351",
            "metadata": {
                "trusted": true
            },
            "outputs": [],
            "source": "def factorial_fcn(x):\n    \"\"\"\n    Compute the factorial of a non-negative integer x.\n\n    Parameters:\n    x (int): The input integer (x >= 0)\n\n    Returns:\n    int: The factorial of x (i.e., x!)\n    \"\"\"\n    res = 1\n    for i in range(x):\n        res *= (i + 1)\n    return res\n\nfactorial_fcn(x=4)"
        },
        {
            "cell_type": "markdown",
            "id": "6d145fee",
            "metadata": {},
            "source": "## **C\u00e2u h\u1ecfi 9**"
        },
        {
            "cell_type": "code",
            "execution_count": null,
            "id": "3ed66d73",
            "metadata": {
                "trusted": true
            },
            "outputs": [],
            "source": "def approx_sin(x, n):\n    \"\"\"\n    Approximate the sine of x using the Taylor series expansion.\n\n    Parameters:\n    x (float): The input angle in radians.\n    n (int): Number of terms in the Taylor series expansion.\n\n    Returns:\n    float: Approximate value of sin(x) using n+1 terms.\n    \"\"\"\n    ### Your code here\n    sin_approx = 0.0\n    for i in range(n+1):\n        expo = 2 * i + 1\n        denom = factorial_fcn(expo)\n\n        sign = (-1)**i\n\n        term = sign * (x**expo/denom)\n        sin_approx += term\n\n    return sin_approx"
        },
        {
            "cell_type": "code",
            "execution_count": null,
            "id": "4e537856",
            "metadata": {
                "trusted": true
            },
            "outputs": [],
            "source": "print(round(approx_sin(x=3.14, n=10), 4))"
        },
        {
            "cell_type": "markdown",
            "id": "df68c3c2",
            "metadata": {},
            "source": "## **C\u00e2u h\u1ecfi 10**"
        },
        {
            "cell_type": "code",
            "execution_count": null,
            "id": "b3d1d2b5",
            "metadata": {
                "trusted": true
            },
            "outputs": [],
            "source": "def approx_cos(x, n):\n    \"\"\"\n    Approximate the cosine of x using the Taylor series expansion.\n    Parameters:\n    x (float): The input angle in radians.\n    n (int): Number of terms in the Taylor series expansion.\n    Returns:\n    float: Approximate value of cos(x) using n+1 terms.\n    \"\"\"\n    ### Your code here\n    cos_approx = 0.0\n    for i in range(n+1):\n        expo_c = 2 * i\n        denom_c = factorial_fcn(expo_c)\n        sign_c = (-1)**i\n        term = sign_c * (x**expo_c/denom_c)\n        cos_approx += term\n    return cos_approx\n\n\n\n# Test\nassert round(approx_cos(x=1, n=10), 2) == 0.54"
        },
        {
            "cell_type": "code",
            "execution_count": null,
            "id": "466bf904",
            "metadata": {
                "trusted": true
            },
            "outputs": [],
            "source": "print(round(approx_cos(x=3.14, n=10), 2))"
        },
        {
            "cell_type": "markdown",
            "id": "b00030da",
            "metadata": {},
            "source": "## **C\u00e2u h\u1ecfi 11**"
        },
        {
            "cell_type": "code",
            "execution_count": null,
            "id": "7e75d75e",
            "metadata": {
                "trusted": true
            },
            "outputs": [],
            "source": "def approx_sinh(x, n):\n    \"\"\"\n    Approximate the hyperbolic sine of x using the Taylor series expansion.\n    Parameters:\n    x (float): The input value.\n    n (int): Number of terms in the Taylor series expansion.\n    Returns:\n    float: Approximate value of sinh(x) using n+1 terms.\n    \"\"\"\n    ### Your code here\n    sinh_approx = 0.0\n    for i in range(n+1):\n        expo = 2 * i + 1\n        denom = factorial_fcn(expo)\n\n        sign = (-1)**i\n\n        term = (x**expo)/denom\n        sinh_approx += term\n    return sinh_approx\n# Test\nassert round(approx_sinh(x=1, n=10), 2) == 1.18"
        },
        {
            "cell_type": "code",
            "execution_count": null,
            "id": "b96f3f59",
            "metadata": {
                "trusted": true
            },
            "outputs": [],
            "source": "print(round(approx_sinh(x=3.14, n=10), 2))"
        },
        {
            "cell_type": "markdown",
            "id": "a555dc21",
            "metadata": {},
            "source": "## **C\u00e2u h\u1ecfi 12**"
        },
        {
            "cell_type": "code",
            "execution_count": null,
            "id": "f9fc3dfc",
            "metadata": {
                "trusted": true
            },
            "outputs": [],
            "source": "def approx_cosh(x, n):\n    \"\"\"\n    Approximate the hyperbolic cosine of x using the Taylor series.\n    Parameters:\n    x (float): The input value.\n    n (int): Number of terms in the Taylor series expansion.\n    Returns:\n    float: Approximate value of cosh(x) using n+1 terms.\n    \"\"\"\n    ### Your code here\n    cosh_approx = 0.0\n    for i in range(n+1):\n        expo_c = 2 * i\n        denom_c = factorial_fcn(expo_c)\n        # sign_c = (-1)**i\n        term = (x**expo_c)/denom_c\n        cosh_approx += term\n    return cosh_approx\n\n# Test\nassert round(approx_cosh(x=1, n=10), 2) == 1.54"
        },
        {
            "cell_type": "code",
            "execution_count": null,
            "id": "d0ac7cf7",
            "metadata": {
                "trusted": true
            },
            "outputs": [],
            "source": "print(round(approx_cosh(x=3.14, n=10), 2))"
        }
    ],
    "metadata": {
        "kernelspec": {
            "display_name": "Python (dsenv)",
            "language": "python",
            "name": "dsenv"
        },
        "language_info": {
            "codemirror_mode": {
                "name": "ipython",
                "version": 3
            },
            "file_extension": ".py",
            "mimetype": "text/x-python",
            "name": "python",
            "nbconvert_exporter": "python",
            "pygments_lexer": "ipython3",
            "version": "3.12.7"
        }
    },
    "nbformat": 4,
    "nbformat_minor": 5
}