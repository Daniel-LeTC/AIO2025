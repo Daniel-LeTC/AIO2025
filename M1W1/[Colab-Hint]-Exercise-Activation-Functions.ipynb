{
  "cells": [
    {
      "cell_type": "markdown",
      "metadata": {
        "id": "view-in-github",
        "colab_type": "text"
      },
      "source": [
        "<a href=\"https://colab.research.google.com/github/Daniel-LeTC/AIO2025/blob/main/M1W1/%5BColab-Hint%5D-Exercise-Activation-Functions.ipynb\" target=\"_parent\"><img src=\"https://colab.research.google.com/assets/colab-badge.svg\" alt=\"Open In Colab\"/></a>"
      ]
    },
    {
      "cell_type": "markdown",
      "metadata": {
        "id": "uycVYwLqc73c"
      },
      "source": [
        "## **Bài 1 - Viết hàm tính độ đo F1**\n",
        "Viết hàm thực hiện đánh giá F1-Score cho các mô hình phân loại.\n",
        "- $\\mbox{Precision} = \\dfrac{TP}{TP + FP}$\n",
        "- $\\mbox{Recall} = \\dfrac{TP}{TP + FN}$\n",
        "- $\\mbox{F1-score} = 2*\\dfrac{Precision*Recall}{Precision + Recall}$\n",
        "\n",
        "- Input: nhận 3 giá trị **tp, fp, fn**\n",
        "\n",
        "- Output: trả về kết quả của **Precision, Recall, và F1-score**\n",
        "\n",
        "\n",
        "**NOTE: Đề bài yêu cầu các điều kiện sau**\n",
        "    \n",
        "- Phải **kiểm tra giá trị nhận vào tp, fp, fn là kiểu dữ liệu int**, nếu là nhận được kiểm dữ liệu khác khác thì in thông báo cho người dùng ví dụ check fn là float, print **'fn must be int'** và thoát hàm hoặc dừng chương trình.\n",
        "- Yêu cầu **tp, fp, fn phải đều lớn hơn 0**, nếu không thì print **'tp and fp and fn must be greater than 0'** và thoát hàm hoặc dừng chương trình"
      ]
    },
    {
      "cell_type": "markdown",
      "metadata": {
        "id": "cxYwUNmnoln_"
      },
      "source": [
        "### Câu hỏi 1"
      ]
    },
    {
      "cell_type": "code",
      "execution_count": null,
      "metadata": {
        "id": "7ebmylCpczFc"
      },
      "outputs": [],
      "source": [
        "import math\n",
        "\n",
        "def calc_f1_score(tp, fp, fn):\n",
        "    \"\"\"\n",
        "    Tính điểm F1 Score từ các giá trị:\n",
        "    - tp: Số lượng true positives\n",
        "    - fp: Số lượng false positives\n",
        "    - fn: Số lượng false negatives\n",
        "\n",
        "    Công thức:\n",
        "        precision = tp / (tp + fp)\n",
        "        recall = tp / (tp + fn)\n",
        "        f1_score = 2 * (precision * recall) / (precision + recall)\n",
        "\n",
        "    Trả về:\n",
        "        f1_score: Điểm F1 Score dưới dạng float\n",
        "    \"\"\"\n",
        "    precision = tp / (tp + fp)\n",
        "    recall = tp / (tp + fn)\n",
        "    f1_score = 2 * (precision * recall) / (precision )\n",
        "    return f1_score\n",
        "\n",
        "assert round(calc_f1_score(tp=2, fp=3, fn=5), 2) == 0.33"
      ]
    },
    {
      "cell_type": "code",
      "execution_count": null,
      "metadata": {
        "id": "Gl3Vi86T29eH",
        "outputId": "6b967572-37af-4c97-df9c-5b1fa7785fc7"
      },
      "outputs": [
        {
          "data": {
            "text/plain": [
              "0.30769230769230765"
            ]
          },
          "execution_count": 2,
          "metadata": {},
          "output_type": "execute_result"
        }
      ],
      "source": [
        "calc_f1_score(tp=2, fp=4, fn=5)"
      ]
    },
    {
      "cell_type": "code",
      "execution_count": null,
      "metadata": {
        "id": "fIir9UWlf39U"
      },
      "outputs": [],
      "source": [
        "def evaluate_f1_components(tp, fp, fn):\n",
        "    \"\"\"\n",
        "    Tính điểm F1 Score từ các giá trị:\n",
        "    - tp: Số lượng true positives\n",
        "    - fp: Số lượng false positives\n",
        "    - fn: Số lượng false negatives\n",
        "\n",
        "    Công thức:\n",
        "        precision = tp / (tp + fp)\n",
        "        recall = tp / (tp + fn)\n",
        "        f1_score = 2 * (precision * recall) / (precision + recall)\n",
        "\n",
        "    Trả về:\n",
        "        f1_score: Điểm F1 Score dưới dạng float\n",
        "    \"\"\"\n",
        "\n",
        "    # Kiểm tra kiểu dữ liệu\n",
        "    # Kiểm tra giá trị không âm\n",
        "    ### Your code here\n",
        "    assert all(isinstance(val, int) and val >= 0 for val in [tp, fp, fn])\n",
        "    precision = tp / (tp + fp)\n",
        "    recall = tp / (tp + fn)\n",
        "    f1_score = 2 * (precision * recall) / (precision + recall)\n",
        "\n",
        "    return precision, recall, f1_score\n",
        "\n",
        "precision, recall, f1_score = evaluate_f1_components(tp=2, fp=3, fn=5)"
      ]
    },
    {
      "cell_type": "code",
      "execution_count": null,
      "metadata": {
        "id": "M-IukaCQm6Cb",
        "outputId": "018093f3-4416-474c-8f76-ee8ea8eba78e"
      },
      "outputs": [
        {
          "data": {
            "text/plain": [
              "(0.4, 0.2857142857142857, 0.3333333333333333)"
            ]
          },
          "execution_count": 4,
          "metadata": {},
          "output_type": "execute_result"
        }
      ],
      "source": [
        "precision, recall, f1_score"
      ]
    },
    {
      "cell_type": "markdown",
      "metadata": {
        "id": "ShtsQpGKnORW"
      },
      "source": [
        "# **Bài 2: Hàm kích hoạt**"
      ]
    },
    {
      "cell_type": "markdown",
      "metadata": {
        "id": "ozojSsQZnamB"
      },
      "source": [
        "- Input:\n",
        "    - Người dùng nhập giá trị **x**\n",
        "    - Người dùng nhập tên **activation function chỉ có 3 loại (sigmoid, relu, elu)**\n",
        "- Output: Kết quả **f(x)** (x khi đi qua actiavtion fucntion tương ứng theo activation function name). Ví dụ **nhập x=3, activation_function = 'relu'. Output: print 'relu: f(3)=3'**\n",
        "\n",
        "**NOTE: Lưu ý các điều kiện sau:**\n",
        "- Dùng function **is_number** được cung cấp sẵn để **kiểm tra x có hợp lệ hay không** (vd: x='10', is_number(x) sẽ trả về True ngược lại là False). Nếu **không hợp lệ print 'x must be a number' và dừng chương trình.**\n",
        "- Kiểm tra **activation function name có hợp lệ hay không nằm trong 3 tên (sigmoid, relu, elu)**. **Nếu không print 'ten_function_user is not supported'** (vd người dùng nhập 'belu' thì print 'belu is not supportted')\n",
        "- Convert **x** sang **float** type\n",
        "- Thực hiện với theo công thức với activation name tương ứng. Print ra kết quả\n",
        "- Dùng math.e để lấy số e\n",
        "- $\\alpha$ = 0.01"
      ]
    },
    {
      "cell_type": "markdown",
      "metadata": {
        "id": "M7QQnLl8qRiL"
      },
      "source": [
        "## **Câu hỏi 2**"
      ]
    },
    {
      "cell_type": "code",
      "execution_count": 1,
      "metadata": {
        "id": "bQgslTm-qTkM",
        "outputId": "3838e990-d16e-4d1c-d928-78ce5413f1d5",
        "colab": {
          "base_uri": "https://localhost:8080/"
        }
      },
      "outputs": [
        {
          "output_type": "stream",
          "name": "stdout",
          "text": [
            "True\n",
            "False\n"
          ]
        }
      ],
      "source": [
        "import math\n",
        "def is_number(n):\n",
        "    try:\n",
        "        float(n)   # Type-casting the string to `float`.\n",
        "                   # If string is not a valid `float`,\n",
        "                   # it'll raise `ValueError` exception\n",
        "    except ValueError:\n",
        "        return False\n",
        "    return True\n",
        "assert is_number(3) == 1.0\n",
        "assert is_number('-2a') == 0.0\n",
        "print(is_number(1))\n",
        "print(is_number('n'))"
      ]
    },
    {
      "cell_type": "markdown",
      "metadata": {
        "id": "B6gsXviSpy0g"
      },
      "source": [
        "## **Câu hỏi 3**"
      ]
    },
    {
      "cell_type": "code",
      "execution_count": null,
      "metadata": {
        "id": "Oiaby-Mdp1U8",
        "outputId": "765fbe8b-ce0a-4517-b987-2b06f933c4af"
      },
      "outputs": [
        {
          "data": {
            "text/plain": [
              "5.0"
            ]
          },
          "execution_count": 12,
          "metadata": {},
          "output_type": "execute_result"
        }
      ],
      "source": [
        "def calc_relu(x):\n",
        "    \"\"\"\n",
        "    Tính hàm ReLU:\n",
        "    ReLU(x) = max(0, x)\n",
        "    \"\"\"\n",
        "    if x<=0:\n",
        "        result = 0.0\n",
        "    else:\n",
        "        result = x\n",
        "    return float(result)\n",
        "\n",
        "calc_relu(5)"
      ]
    },
    {
      "cell_type": "markdown",
      "metadata": {
        "id": "KTG2Fe7to21I"
      },
      "source": [
        "## **Câu hỏi 4**"
      ]
    },
    {
      "cell_type": "code",
      "execution_count": null,
      "metadata": {
        "id": "wvkRh4kOepSA",
        "outputId": "9d6ed8b5-59dc-4e59-8a36-ace58ab1746d"
      },
      "outputs": [
        {
          "data": {
            "text/plain": [
              "0.7310585786300049"
            ]
          },
          "execution_count": 14,
          "metadata": {},
          "output_type": "execute_result"
        }
      ],
      "source": [
        "import math\n",
        "\n",
        "def calc_sig(x):\n",
        "    \"\"\"\n",
        "    Tính hàm sigmoid: σ(x) = 1 / (1 + e^(-x))\n",
        "    \"\"\"\n",
        "    ### Your code here\n",
        "    return 1 / (1 + math.exp(-x))\n",
        "\n",
        "assert round(calc_sig(3), 2)==0.95\n",
        "\n",
        "calc_sig(1)"
      ]
    },
    {
      "cell_type": "code",
      "execution_count": null,
      "metadata": {
        "id": "aG8vCZPWoEu_",
        "outputId": "c1814efc-b225-4dd6-8529-2f4e0f2b4746"
      },
      "outputs": [
        {
          "name": "stdout",
          "output_type": "stream",
          "text": [
            "0.88\n"
          ]
        }
      ],
      "source": [
        "print(round(calc_sig(2), 2))"
      ]
    },
    {
      "cell_type": "markdown",
      "metadata": {
        "id": "EDXR3ffrpOO0"
      },
      "source": [
        "## **Câu hỏi 5**"
      ]
    },
    {
      "cell_type": "code",
      "execution_count": null,
      "metadata": {
        "id": "uh93FvWApYCp",
        "outputId": "842282fd-524e-4c85-c796-719ac602e78b"
      },
      "outputs": [
        {
          "data": {
            "text/plain": [
              "-0.009816843611112657"
            ]
          },
          "execution_count": 16,
          "metadata": {},
          "output_type": "execute_result"
        }
      ],
      "source": [
        "import math\n",
        "\n",
        "def calc_elu(x):\n",
        "    \"\"\"\n",
        "    Tính hàm ELU (Exponential Linear Unit):\n",
        "    ELU(x) = x                 nếu x >= 0\n",
        "           = alpha * (e^x - 1) nếu x < 0\n",
        "    \"\"\"\n",
        "    ### Your code here\n",
        "    if x <= 0:\n",
        "        return 0.01*(math.exp(x) - 1)\n",
        "    else:\n",
        "        return x\n",
        "\n",
        "assert round(calc_elu(1))==1\n",
        "\n",
        "calc_elu(-4)"
      ]
    },
    {
      "cell_type": "code",
      "execution_count": null,
      "metadata": {
        "id": "BmzfdGQmTxgB",
        "outputId": "77312a47-9b42-4647-f907-1eb106bdaa1d"
      },
      "outputs": [
        {
          "name": "stdout",
          "output_type": "stream",
          "text": [
            "-0.01\n"
          ]
        }
      ],
      "source": [
        "print(round(calc_elu(-1), 2))"
      ]
    },
    {
      "cell_type": "markdown",
      "metadata": {
        "id": "jMl2_VWApiGv"
      },
      "source": [
        "## **Câu hỏi 6**"
      ]
    },
    {
      "cell_type": "markdown",
      "metadata": {
        "id": "Z1n4LTQ1P0Qb"
      },
      "source": [
        "Do em không đọc kĩ file notebook nên tưởng là tự làm nguyên phần câu 2 vào đây nên em code lại từ đầu :D có hỏi AI một số cái và code lại nên kết quả của câu 6 chạy hàm sigmoid bằng 0.95 là ở 2 cell kế tiếp ạ, mong TA thông cảm :D"
      ]
    },
    {
      "cell_type": "code",
      "execution_count": null,
      "metadata": {
        "id": "gZ3Gd_ZJP0Qb"
      },
      "outputs": [],
      "source": [
        "def relu(x:float) -> float:\n",
        "    if x < 0:\n",
        "        return 0\n",
        "    else:\n",
        "        return x\n",
        "\n",
        "def elu(x:float, alpha:float) -> float:\n",
        "    if x <= 0:\n",
        "        return alpha*(math.exp(x) - 1)\n",
        "    else:\n",
        "        return x\n",
        "def sigmoid(x:float) -> float:\n",
        "    return 1 / (1 + math.exp(-x))\n",
        "\n",
        "def activation_function(name_func: str, x:float) -> float:\n",
        "    activation_funcs = {\n",
        "        'relu': relu,\n",
        "        'sigmoid': sigmoid,\n",
        "        'elu': elu\n",
        "    }\n",
        "    if not is_number(x):\n",
        "        raise ValueError(f'{x} must be a number')\n",
        "    if name_func not in activation_funcs:\n",
        "        raise ValueError(f'Error:{name_func} not supported')\n",
        "    call_func = activation_funcs[name_func]\n",
        "    if name_func == 'elu':\n",
        "        alpha = 0.01\n",
        "        return call_func(x, alpha)\n",
        "    else:\n",
        "        return call_func(x)"
      ]
    },
    {
      "cell_type": "markdown",
      "metadata": {
        "id": "H88QNkTBP0Qb"
      },
      "source": [
        "###### sigmoid_output"
      ]
    },
    {
      "cell_type": "code",
      "execution_count": null,
      "metadata": {
        "id": "OI4UoAzAP0Qb",
        "outputId": "bba322f7-705e-4336-b9dc-9b755978a251"
      },
      "outputs": [
        {
          "data": {
            "text/plain": [
              "0.95"
            ]
          },
          "execution_count": 38,
          "metadata": {},
          "output_type": "execute_result"
        }
      ],
      "source": [
        "# Test 1:\n",
        "round(activation_function('sigmoid', 3),2)"
      ]
    },
    {
      "cell_type": "code",
      "execution_count": null,
      "metadata": {
        "id": "emPpZ5W8P0Qb",
        "outputId": "9e3d79a6-0281-4993-d93a-9c87e491b767"
      },
      "outputs": [
        {
          "ename": "ValueError",
          "evalue": "Error:elu1 not supported",
          "output_type": "error",
          "traceback": [
            "\u001b[0;31m---------------------------------------------------------------------------\u001b[0m",
            "\u001b[0;31mValueError\u001b[0m                                Traceback (most recent call last)",
            "Cell \u001b[0;32mIn[19], line 2\u001b[0m\n\u001b[1;32m      1\u001b[0m \u001b[38;5;66;03m# Test 2\u001b[39;00m\n\u001b[0;32m----> 2\u001b[0m activation_function(\u001b[38;5;124m'\u001b[39m\u001b[38;5;124melu1\u001b[39m\u001b[38;5;124m'\u001b[39m, \u001b[38;5;241m3\u001b[39m)\n",
            "Cell \u001b[0;32mIn[7], line 24\u001b[0m, in \u001b[0;36mactivation_function\u001b[0;34m(name_func, x)\u001b[0m\n\u001b[1;32m     22\u001b[0m     \u001b[38;5;28;01mraise\u001b[39;00m \u001b[38;5;167;01mValueError\u001b[39;00m(\u001b[38;5;124mf\u001b[39m\u001b[38;5;124m'\u001b[39m\u001b[38;5;132;01m{\u001b[39;00mx\u001b[38;5;132;01m}\u001b[39;00m\u001b[38;5;124m must be a number\u001b[39m\u001b[38;5;124m'\u001b[39m)\n\u001b[1;32m     23\u001b[0m \u001b[38;5;28;01mif\u001b[39;00m name_func \u001b[38;5;129;01mnot\u001b[39;00m \u001b[38;5;129;01min\u001b[39;00m activation_funcs:\n\u001b[0;32m---> 24\u001b[0m     \u001b[38;5;28;01mraise\u001b[39;00m \u001b[38;5;167;01mValueError\u001b[39;00m(\u001b[38;5;124mf\u001b[39m\u001b[38;5;124m'\u001b[39m\u001b[38;5;124mError:\u001b[39m\u001b[38;5;132;01m{\u001b[39;00mname_func\u001b[38;5;132;01m}\u001b[39;00m\u001b[38;5;124m not supported\u001b[39m\u001b[38;5;124m'\u001b[39m)\n\u001b[1;32m     25\u001b[0m call_func \u001b[38;5;241m=\u001b[39m activation_funcs[name_func]\n\u001b[1;32m     26\u001b[0m \u001b[38;5;28;01mif\u001b[39;00m name_func \u001b[38;5;241m==\u001b[39m \u001b[38;5;124m'\u001b[39m\u001b[38;5;124melu\u001b[39m\u001b[38;5;124m'\u001b[39m:\n",
            "\u001b[0;31mValueError\u001b[0m: Error:elu1 not supported"
          ]
        }
      ],
      "source": [
        "# Test 2\n",
        "activation_function('elu1')"
      ]
    },
    {
      "cell_type": "code",
      "execution_count": null,
      "metadata": {
        "id": "Gl2QD1GHP0Qb",
        "outputId": "de7ed114-59c6-4f63-99b8-b75bf702ce99"
      },
      "outputs": [
        {
          "ename": "ValueError",
          "evalue": "n must be a number",
          "output_type": "error",
          "traceback": [
            "\u001b[0;31m---------------------------------------------------------------------------\u001b[0m",
            "\u001b[0;31mValueError\u001b[0m                                Traceback (most recent call last)",
            "Cell \u001b[0;32mIn[20], line 2\u001b[0m\n\u001b[1;32m      1\u001b[0m \u001b[38;5;66;03m# Test 3\u001b[39;00m\n\u001b[0;32m----> 2\u001b[0m activation_function(\u001b[38;5;124m'\u001b[39m\u001b[38;5;124melu\u001b[39m\u001b[38;5;124m'\u001b[39m, \u001b[38;5;124m'\u001b[39m\u001b[38;5;124mn\u001b[39m\u001b[38;5;124m'\u001b[39m)\n",
            "Cell \u001b[0;32mIn[7], line 22\u001b[0m, in \u001b[0;36mactivation_function\u001b[0;34m(name_func, x)\u001b[0m\n\u001b[1;32m     16\u001b[0m activation_funcs \u001b[38;5;241m=\u001b[39m {\n\u001b[1;32m     17\u001b[0m     \u001b[38;5;124m'\u001b[39m\u001b[38;5;124mrelu\u001b[39m\u001b[38;5;124m'\u001b[39m: relu,\n\u001b[1;32m     18\u001b[0m     \u001b[38;5;124m'\u001b[39m\u001b[38;5;124msigmoid\u001b[39m\u001b[38;5;124m'\u001b[39m: sigmoid,\n\u001b[1;32m     19\u001b[0m     \u001b[38;5;124m'\u001b[39m\u001b[38;5;124melu\u001b[39m\u001b[38;5;124m'\u001b[39m: elu\n\u001b[1;32m     20\u001b[0m }\n\u001b[1;32m     21\u001b[0m \u001b[38;5;28;01mif\u001b[39;00m \u001b[38;5;129;01mnot\u001b[39;00m is_number(x):\n\u001b[0;32m---> 22\u001b[0m     \u001b[38;5;28;01mraise\u001b[39;00m \u001b[38;5;167;01mValueError\u001b[39;00m(\u001b[38;5;124mf\u001b[39m\u001b[38;5;124m'\u001b[39m\u001b[38;5;132;01m{\u001b[39;00mx\u001b[38;5;132;01m}\u001b[39;00m\u001b[38;5;124m must be a number\u001b[39m\u001b[38;5;124m'\u001b[39m)\n\u001b[1;32m     23\u001b[0m \u001b[38;5;28;01mif\u001b[39;00m name_func \u001b[38;5;129;01mnot\u001b[39;00m \u001b[38;5;129;01min\u001b[39;00m activation_funcs:\n\u001b[1;32m     24\u001b[0m     \u001b[38;5;28;01mraise\u001b[39;00m \u001b[38;5;167;01mValueError\u001b[39;00m(\u001b[38;5;124mf\u001b[39m\u001b[38;5;124m'\u001b[39m\u001b[38;5;124mError:\u001b[39m\u001b[38;5;132;01m{\u001b[39;00mname_func\u001b[38;5;132;01m}\u001b[39;00m\u001b[38;5;124m not supported\u001b[39m\u001b[38;5;124m'\u001b[39m)\n",
            "\u001b[0;31mValueError\u001b[0m: n must be a number"
          ]
        }
      ],
      "source": [
        "# Test 3\n",
        "activation_function('elu', 'n')"
      ]
    },
    {
      "cell_type": "code",
      "execution_count": null,
      "metadata": {
        "id": "MuLdlkuIpj7f"
      },
      "outputs": [],
      "source": [
        "import math\n",
        "\n",
        "def calc_activation_func(x, act_name):\n",
        "    \"\"\"\n",
        "    Tính hàm kích hoạt cho x dựa trên act_name:\n",
        "    'relu', 'sigmoid', hoặc 'elu'.\n",
        "    \"\"\"\n",
        "    ### Your code here\n",
        "\n",
        "assert calc_activation_func(x = 1, act_name='relu') == 1\n",
        "calc_activation_func(1, \"sigmoid\")"
      ]
    },
    {
      "cell_type": "code",
      "execution_count": null,
      "metadata": {
        "id": "jlZ4Qn8UqJAw"
      },
      "outputs": [],
      "source": [
        "print(round(calc_activation_func(x = 3, act_name='sigmoid'), 2))\n"
      ]
    },
    {
      "cell_type": "markdown",
      "metadata": {
        "id": "w0-p9a2ZP0Qc"
      },
      "source": [
        "##### Please see the code and output of this sigmoid output at [output](#sigmoid_output)\n"
      ]
    },
    {
      "cell_type": "code",
      "execution_count": null,
      "metadata": {
        "id": "KQ4B4XKtqMRI"
      },
      "outputs": [],
      "source": [
        "def interactive_activation_function():\n",
        "    x = input('Input x = ')\n",
        "    if not is_number(x):\n",
        "        print('x must be a number')\n",
        "        return # exit()\n",
        "\n",
        "    act_name = input('Input activation function (sigmoid|relu|elu): ')\n",
        "    x = float(x)\n",
        "    result = calc_activation_func(x, act_name)\n",
        "    if result is None:\n",
        "        print(f'{act_name} is not supportted')\n",
        "    else:\n",
        "        print(f'{act_name}: f({x}) = {result}')"
      ]
    },
    {
      "cell_type": "code",
      "execution_count": null,
      "metadata": {
        "id": "yEKzj_msqz7d"
      },
      "outputs": [],
      "source": [
        "interactive_activation_function()"
      ]
    },
    {
      "cell_type": "markdown",
      "metadata": {
        "id": "hNOi2P7frAmo"
      },
      "source": [
        "# **Bài 3: Hàm mất mát**"
      ]
    },
    {
      "cell_type": "markdown",
      "metadata": {
        "id": "keyAQadBrFEG"
      },
      "source": [
        "Viết function lựa chọn regression loss function để tính loss:\n",
        "- MAE = $ \\dfrac{1}{n}∑_{i=1}^{n} |y_{i} - \\hat{y}_{i}| $\n",
        "- MSE = $ \\dfrac{1}{n}∑_{i=1}^{n} (y_{i} - \\hat{y}_{i})^2 $\n",
        "- RMSE = $\\sqrt{MSE}$ = $ \\sqrt{\\dfrac{1}{n}∑_{i=1}^{n} (y_{i} - \\hat{y}_{i})^2} $\n",
        "- **n** chính là **số lượng samples (num_samples)**, với **i** là mỗi sample cụ thể. Ở đây các bạn có thể hiểu là cứ mỗi **i** thì sẽ **có 1 cặp  $y_i$ là target và $\\hat{y}$ là predict**.\n",
        "- Input:\n",
        "    - Người dùng **nhập số lượng sample (num_samples) được tạo ra (chỉ nhận integer numbers)**\n",
        "    - Người dùng **nhập loss name (MAE, MSE, RMSE-(optional)) chỉ cần MAE và MSE, bạn nào muốn làm thêm RMSE đều được**.\n",
        "        \n",
        "- Output:\n",
        "    - Print ra **loss name, sample, predict, target, loss**\n",
        "        - **loss name:** là loss mà người dùng chọn\n",
        "        - **sample:** là thứ tự sample được tạo ra (ví dụ num_samples=5, thì sẽ có 5 samples và mỗi sample là sample-0, sample-1, sample-2, sample-3, sample-4)\n",
        "        - **predict:** là số mà model dự đoán (chỉ cần dùng random tạo random một số trong range [0,10))\n",
        "        - **target:** là số target mà momg muốn mode dự đoán đúng (chỉ cần dùng random tạo random một số trong range [0,10))\n",
        "        - **loss:** là kết quả khi đưa predict và target vào hàm loss\n",
        "        - **note:** ví dụ num_sample=5 thì sẽ có 5 cặp predict và target.\n",
        "\n",
        "**Note: Các bạn lưu ý**\n",
        "- Dùng **.isnumeric() method** để kiểm tra **num_samples** có hợp lệ hay không (vd: x='10', num_samples.isnumeric() sẽ trả về True ngược lại là False). Nếu **không hợp lệ print 'number of samples must be an integer number'** và dừng chương trình.\n",
        "- **Dùng vòng lặp for, lặp lại num_samples lần**. **Mỗi lần dùng random modules tạo một con số ngẫu nhiên trong range [0.0, 10.0) cho predict và target**. Sau đó predict và target vào loss function và print ra kết quả mỗi lần lặp.\n",
        "- Dùng **random.uniform(0,10)** để tạo ra một số ngẫu nhiên trong range [0,10)\n",
        "- **Giả xử người dùng luôn nhập đúng loss name MSE, MAE, và RMSE (đơn giảng bước này để các bạn không cần check tên hợp lệ)**\n",
        "- Dùng abs() để tính trị tuyệt đối ví dụ abs(-3) sẽ trả về 3\n",
        "- Dùng math.sqrt() để tính căn bậc 2"
      ]
    },
    {
      "cell_type": "markdown",
      "metadata": {
        "id": "dl6t8TI9Q0ko"
      },
      "source": [
        "## **Câu hỏi 7**"
      ]
    },
    {
      "cell_type": "code",
      "execution_count": null,
      "metadata": {
        "id": "_-viEfHerCND",
        "outputId": "ff3efb12-450b-42b9-a78f-884b0284e859"
      },
      "outputs": [
        {
          "name": "stdout",
          "output_type": "stream",
          "text": [
            "7\n"
          ]
        }
      ],
      "source": [
        "def calc_ae(y, y_hat):\n",
        "    \"\"\"\n",
        "    Tính sai số tuyệt đối (Absolute Error)\n",
        "    giữa giá trị thực tế và giá trị dự đoán.\n",
        "\n",
        "    Tham số:\n",
        "    y (float hoặc int): Giá trị thực tế (ground truth).\n",
        "    y_hat (float hoặc int): Giá trị dự đoán.\n",
        "\n",
        "    Trả về:\n",
        "    float: Giá trị tuyệt đối của hiệu giữa y và y_hat.\n",
        "    \"\"\"\n",
        "    ### Your code here\n",
        "    return abs(y - y_hat)\n",
        "\n",
        "y = 1\n",
        "y_hat = 6\n",
        "assert calc_ae(y, y_hat)==5\n",
        "\n",
        "y = 2\n",
        "y_hat = 9\n",
        "print(calc_ae(y, y_hat))"
      ]
    },
    {
      "cell_type": "markdown",
      "metadata": {
        "id": "GpyV7-mDQ0ko"
      },
      "source": [
        "## **Câu hỏi 8**"
      ]
    },
    {
      "cell_type": "code",
      "execution_count": null,
      "metadata": {
        "id": "HzD6sl3FQ0ko",
        "outputId": "f8e7c31e-37a5-4fd2-ff8b-0df10839312e"
      },
      "outputs": [
        {
          "name": "stdout",
          "output_type": "stream",
          "text": [
            "1\n"
          ]
        }
      ],
      "source": [
        "def calc_se(y, y_hat):\n",
        "    \"\"\"\n",
        "    Tính sai số bình phương (Squared Error)\n",
        "    giữa giá trị thực tế và giá trị dự đoán.\n",
        "\n",
        "    Tham số:\n",
        "    y (float hoặc int): Giá trị thực tế (ground truth).\n",
        "    y_hat (float hoặc int): Giá trị dự đoán.\n",
        "\n",
        "    Trả về:\n",
        "    float: Bình phương của hiệu giữa y và y_hat.\n",
        "    \"\"\"\n",
        "    ### Your code here\n",
        "    return (y - y_hat)**2\n",
        "y = 4\n",
        "y_hat = 2\n",
        "assert calc_se(y, y_hat) == 4\n",
        "\n",
        "print(calc_se(2, 1))"
      ]
    },
    {
      "cell_type": "code",
      "execution_count": null,
      "metadata": {
        "id": "MPuM5GE7Q0kp"
      },
      "outputs": [],
      "source": [
        "import random\n",
        "\n",
        "def cal_activation_function():\n",
        "    num_samples = input('Input number of samples (integer number) which are generated: ')\n",
        "    if not num_samples.isnumeric():#Hàm isnumeric() trong Python trả về true nếu một chuỗi dạng Unicode chỉ chứa các ký tự số,\n",
        "    #nếu không là false.\n",
        "        print(\"number of samples must be an integer number\")\n",
        "        return # exit()\n",
        "    loss_name = input('Input loss name: ')\n",
        "\n",
        "    # giả sử người dùng luôn nhập đúng MAE, MSE hoặc RMSE\n",
        "    final_loss = 0\n",
        "    num_samples = int(num_samples)\n",
        "    for i in range(num_samples):\n",
        "        pred_sample = random.uniform(0,10)\n",
        "        target_sample = random.uniform(0,10)\n",
        "\n",
        "        if loss_name == 'MAE':\n",
        "            loss = calc_ae(pred_sample, target_sample)\n",
        "        elif loss_name == 'MSE' or loss_name == 'RMSE':\n",
        "            loss = calc_se(pred_sample, target_sample)\n",
        "        # hoặc trả về thông báo loss không có\n",
        "        final_loss += loss\n",
        "        print(f'loss_name: {loss_name}, sample: {i}: pred: {round(pred_sample,2)} target: {round(target_sample,2)} loss: {round(loss,2)}')\n",
        "\n",
        "    final_loss /= num_samples\n",
        "    if loss_name == 'RMSE':\n",
        "        final_loss = math.sqrt(final_loss)\n",
        "    print(f'final {loss_name}: {final_loss}')\n",
        "    return final_loss"
      ]
    },
    {
      "cell_type": "code",
      "execution_count": null,
      "metadata": {
        "id": "knx1I3j4Q0kp",
        "outputId": "dbb12ec2-5f76-414c-8cd8-2b325629aea8"
      },
      "outputs": [
        {
          "name": "stdout",
          "output_type": "stream",
          "text": [
            "loss_name: MAE, sample: 0: pred: 3.86 target: 9.17 loss: 5.3\n",
            "loss_name: MAE, sample: 1: pred: 9.22 target: 9.73 loss: 0.5\n",
            "loss_name: MAE, sample: 2: pred: 7.77 target: 9.53 loss: 1.75\n",
            "final MAE: 2.5205543729955964\n"
          ]
        },
        {
          "data": {
            "text/plain": [
              "2.5205543729955964"
            ]
          },
          "execution_count": 27,
          "metadata": {},
          "output_type": "execute_result"
        }
      ],
      "source": [
        "final_loss = cal_activation_function()\n",
        "final_loss"
      ]
    },
    {
      "cell_type": "markdown",
      "metadata": {
        "id": "fP53niv0Q0kp"
      },
      "source": [
        "# **Bài 4: Hàm lượng giác**"
      ]
    },
    {
      "cell_type": "markdown",
      "metadata": {
        "id": "TftSsF7NRIWx"
      },
      "source": [
        "Viết 4 functions để ước lượng các hàm số sau.\n",
        "-  Input: x (số muốn tính toán) và n (số lần lặp muốn xấp xỉ)\n",
        "- Output: Kết quả ước lượng hàm tương ứng với x. Ví dụ hàm cos(x=0) thì output = 1\n",
        "\n",
        "**NOTE: Các bạn chú ý các điều kiện sau**\n",
        "- x là radian\n",
        "- n là số nguyên dương > 0\n",
        "- các bạn nên viết một hàm tính giai thừa riêng"
      ]
    },
    {
      "cell_type": "code",
      "execution_count": null,
      "metadata": {
        "id": "8qOAN24rQ0kp",
        "outputId": "157c8ff3-753f-4e8c-feea-de7aa854983e"
      },
      "outputs": [
        {
          "data": {
            "text/plain": [
              "24"
            ]
          },
          "execution_count": 28,
          "metadata": {},
          "output_type": "execute_result"
        }
      ],
      "source": [
        "def factorial_fcn(x):\n",
        "    \"\"\"\n",
        "    Compute the factorial of a non-negative integer x.\n",
        "\n",
        "    Parameters:\n",
        "    x (int): The input integer (x >= 0)\n",
        "\n",
        "    Returns:\n",
        "    int: The factorial of x (i.e., x!)\n",
        "    \"\"\"\n",
        "    res = 1\n",
        "    for i in range(x):\n",
        "        res *= (i + 1)\n",
        "    return res\n",
        "\n",
        "factorial_fcn(x=4)"
      ]
    },
    {
      "cell_type": "markdown",
      "metadata": {
        "id": "LAAcjTc6RWpX"
      },
      "source": [
        "## **Câu hỏi 9**"
      ]
    },
    {
      "cell_type": "code",
      "execution_count": null,
      "metadata": {
        "id": "yU0dWA8eQ0kp"
      },
      "outputs": [],
      "source": [
        "def approx_sin(x, n):\n",
        "    \"\"\"\n",
        "    Approximate the sine of x using the Taylor series expansion.\n",
        "\n",
        "    Parameters:\n",
        "    x (float): The input angle in radians.\n",
        "    n (int): Number of terms in the Taylor series expansion.\n",
        "\n",
        "    Returns:\n",
        "    float: Approximate value of sin(x) using n+1 terms.\n",
        "    \"\"\"\n",
        "    ### Your code here\n",
        "    sin_approx = 0.0\n",
        "    for i in range(n+1):\n",
        "        expo = 2 * i + 1\n",
        "        denom = factorial_fcn(expo)\n",
        "\n",
        "        sign = (-1)**i\n",
        "\n",
        "        term = sign * (x**expo/denom)\n",
        "        sin_approx += term\n",
        "\n",
        "    return sin_approx"
      ]
    },
    {
      "cell_type": "code",
      "execution_count": null,
      "metadata": {
        "id": "f-ZeUFxLQ0kp",
        "outputId": "76f328e3-683e-4a30-e16b-1ebe09325d66"
      },
      "outputs": [
        {
          "name": "stdout",
          "output_type": "stream",
          "text": [
            "0.0016\n"
          ]
        }
      ],
      "source": [
        "print(round(approx_sin(x=3.14, n=10), 4))"
      ]
    },
    {
      "cell_type": "markdown",
      "metadata": {
        "id": "E6wEd6uURYai"
      },
      "source": [
        "## **Câu hỏi 10**"
      ]
    },
    {
      "cell_type": "code",
      "execution_count": null,
      "metadata": {
        "id": "Y2wSHOzXQ0kp"
      },
      "outputs": [],
      "source": [
        "def approx_cos(x, n):\n",
        "    \"\"\"\n",
        "    Approximate the cosine of x using the Taylor series expansion.\n",
        "    Parameters:\n",
        "    x (float): The input angle in radians.\n",
        "    n (int): Number of terms in the Taylor series expansion.\n",
        "    Returns:\n",
        "    float: Approximate value of cos(x) using n+1 terms.\n",
        "    \"\"\"\n",
        "    ### Your code here\n",
        "    cos_approx = 0.0\n",
        "    for i in range(n+1):\n",
        "        expo_c = 2 * i\n",
        "        denom_c = factorial_fcn(expo_c)\n",
        "        sign_c = (-1)**i\n",
        "        term = sign_c * (x**expo_c/denom_c)\n",
        "        cos_approx += term\n",
        "    return cos_approx\n",
        "\n",
        "\n",
        "\n",
        "# Test\n",
        "assert round(approx_cos(x=1, n=10), 2) == 0.54"
      ]
    },
    {
      "cell_type": "code",
      "execution_count": null,
      "metadata": {
        "id": "m1xvqAfYQ0kp",
        "outputId": "155217a2-69f6-4c9e-d563-5022726edc9e"
      },
      "outputs": [
        {
          "name": "stdout",
          "output_type": "stream",
          "text": [
            "-1.0\n"
          ]
        }
      ],
      "source": [
        "print(round(approx_cos(x=3.14, n=10), 2))"
      ]
    },
    {
      "cell_type": "markdown",
      "metadata": {
        "id": "d9kQu6utRamF"
      },
      "source": [
        "## **Câu hỏi 11**"
      ]
    },
    {
      "cell_type": "code",
      "execution_count": null,
      "metadata": {
        "id": "GfW4FpSdQ0kp"
      },
      "outputs": [],
      "source": [
        "def approx_sinh(x, n):\n",
        "    \"\"\"\n",
        "    Approximate the hyperbolic sine of x using the Taylor series expansion.\n",
        "    Parameters:\n",
        "    x (float): The input value.\n",
        "    n (int): Number of terms in the Taylor series expansion.\n",
        "    Returns:\n",
        "    float: Approximate value of sinh(x) using n+1 terms.\n",
        "    \"\"\"\n",
        "    ### Your code here\n",
        "    sinh_approx = 0.0\n",
        "    for i in range(n+1):\n",
        "        expo = 2 * i + 1\n",
        "        denom = factorial_fcn(expo)\n",
        "\n",
        "        sign = (-1)**i\n",
        "\n",
        "        term = (x**expo)/denom\n",
        "        sinh_approx += term\n",
        "    return sinh_approx\n",
        "# Test\n",
        "assert round(approx_sinh(x=1, n=10), 2) == 1.18"
      ]
    },
    {
      "cell_type": "code",
      "execution_count": null,
      "metadata": {
        "id": "R_eEkU5cQ0kv",
        "outputId": "20526fe0-1213-49c4-fd59-4d09e62da7c1"
      },
      "outputs": [
        {
          "name": "stdout",
          "output_type": "stream",
          "text": [
            "11.53\n"
          ]
        }
      ],
      "source": [
        "print(round(approx_sinh(x=3.14, n=10), 2))"
      ]
    },
    {
      "cell_type": "markdown",
      "metadata": {
        "id": "py9jGnMORcpP"
      },
      "source": [
        "## **Câu hỏi 12**"
      ]
    },
    {
      "cell_type": "code",
      "execution_count": null,
      "metadata": {
        "id": "sOguyp6MQ0kv"
      },
      "outputs": [],
      "source": [
        "def approx_cosh(x, n):\n",
        "    \"\"\"\n",
        "    Approximate the hyperbolic cosine of x using the Taylor series.\n",
        "    Parameters:\n",
        "    x (float): The input value.\n",
        "    n (int): Number of terms in the Taylor series expansion.\n",
        "    Returns:\n",
        "    float: Approximate value of cosh(x) using n+1 terms.\n",
        "    \"\"\"\n",
        "    ### Your code here\n",
        "    cosh_approx = 0.0\n",
        "    for i in range(n+1):\n",
        "        expo_c = 2 * i\n",
        "        denom_c = factorial_fcn(expo_c)\n",
        "        # sign_c = (-1)**i\n",
        "        term = (x**expo_c)/denom_c\n",
        "        cosh_approx += term\n",
        "    return cosh_approx\n",
        "\n",
        "# Test\n",
        "assert round(approx_cosh(x=1, n=10), 2) == 1.54"
      ]
    },
    {
      "cell_type": "code",
      "execution_count": null,
      "metadata": {
        "id": "EYYwPBsjQ0kv",
        "outputId": "35b434ea-f6ed-4852-d3ac-c446696a3a85"
      },
      "outputs": [
        {
          "name": "stdout",
          "output_type": "stream",
          "text": [
            "11.57\n"
          ]
        }
      ],
      "source": [
        "print(round(approx_cosh(x=3.14, n=10), 2))"
      ]
    }
  ],
  "metadata": {
    "colab": {
      "provenance": [],
      "include_colab_link": true
    },
    "kernelspec": {
      "display_name": "dsenv",
      "language": "python",
      "name": "python3"
    },
    "language_info": {
      "codemirror_mode": {
        "name": "ipython",
        "version": 3
      },
      "file_extension": ".py",
      "mimetype": "text/x-python",
      "name": "python",
      "nbconvert_exporter": "python",
      "pygments_lexer": "ipython3",
      "version": "3.12.7"
    }
  },
  "nbformat": 4,
  "nbformat_minor": 0
}